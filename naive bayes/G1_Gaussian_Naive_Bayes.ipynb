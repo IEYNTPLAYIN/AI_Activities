{
  "nbformat": 4,
  "nbformat_minor": 0,
  "metadata": {
    "colab": {
      "provenance": []
    },
    "kernelspec": {
      "name": "python3",
      "display_name": "Python 3"
    },
    "language_info": {
      "name": "python"
    }
  },
  "cells": [
    {
      "cell_type": "markdown",
      "source": [
        "# Gaussian Naive Bayes Algorithm on Iris Dataset\n",
        "\n",
        "This implementation utilizes the Gaussian Naive Bayes algorithm, which is well-suited for our dataset."
      ],
      "metadata": {
        "id": "gUotOTKuD2ho"
      }
    },
    {
      "cell_type": "markdown",
      "source": [
        "**How to run the program:**\n",
        "*  **Download the Dataset:** Obtain the dataset from Kaggle (https://www.kaggle.com/datasets/saurabh00007/iriscsv)\n",
        "* **Import the Dataset:** Upload the downloaded CSV file to the Files tab on the right side of the screen in your development environment.\n",
        "*   **Run the Program**: Execute the code sequentially to see the results."
      ],
      "metadata": {
        "id": "9D9m3nfmImzt"
      }
    },
    {
      "cell_type": "markdown",
      "source": [
        "**Step 1** : Import all necessary packages from various sources.\n",
        "It also includes a utility function to format the display of results.\n",
        "\n"
      ],
      "metadata": {
        "id": "jrM5u0I9F-U2"
      }
    },
    {
      "cell_type": "code",
      "execution_count": null,
      "metadata": {
        "id": "Qxzzg4fqkG2J"
      },
      "outputs": [],
      "source": [
        "import pandas as pd\n",
        "from sklearn.preprocessing import LabelEncoder\n",
        "from sklearn.model_selection import train_test_split\n",
        "from sklearn.naive_bayes import GaussianNB\n",
        "from sklearn.metrics import accuracy_score\n",
        "from sklearn.metrics import classification_report, confusion_matrix, accuracy_score\n",
        "import seaborn as sns\n",
        "import matplotlib.pyplot as plt\n",
        "\n",
        "\n",
        "def showResults(filters=None):\n",
        "    if filters is None or not filters:\n",
        "        filters = ['classification_report', 'accuracy', 'confusion_matrix']\n",
        "\n",
        "    if 'accuracy' in filters:\n",
        "        print(\"Accuracy:\", accuracy_score(y_test, y_pred))\n",
        "\n",
        "    if 'confusion_matrix' in filters:\n",
        "        plt.figure(figsize=(4, 4))\n",
        "        plt.rc('font', size=8)\n",
        "        sns.heatmap(confusion_matrix(y_test, y_pred), annot=True, fmt='d', cmap='Blues',\n",
        "                    xticklabels=gnb.classes_, yticklabels=gnb.classes_)\n",
        "        plt.xlabel('Predicted', fontweight='bold')\n",
        "        plt.ylabel('Actual', fontweight='bold')\n",
        "        plt.title('Confusion Matrix', fontweight='bold')\n",
        "        plt.show()\n",
        "\n",
        "    if 'classification_report' in filters:\n",
        "        print(\"Classification Report:\")\n",
        "        print(classification_report(y_test, y_pred))"
      ]
    },
    {
      "cell_type": "markdown",
      "source": [
        "**Step 2** : Read the dataset and define what columns(continuous) are included.\n"
      ],
      "metadata": {
        "id": "07F3kFy2GM9D"
      }
    },
    {
      "cell_type": "code",
      "source": [
        "url = \"./Iris.csv\"\n",
        "column_names = ['SepalLengthCm', 'SepalWidthCm', 'PetalLengthCm', 'PetalWidthCm']\n",
        "data = pd.read_csv(url, header=0)\n",
        "X = data[column_names]"
      ],
      "metadata": {
        "id": "c9wDdjAA1_YD"
      },
      "execution_count": null,
      "outputs": []
    },
    {
      "cell_type": "markdown",
      "source": [
        "**Step 3** : We use Gaussian, so normalization is necessary. After that, the dataset is split from train to test. Ignore the SettingWithCopyWarning"
      ],
      "metadata": {
        "id": "YVxvqs5XHDpM"
      }
    },
    {
      "cell_type": "code",
      "source": [
        "X.loc[:, column_names] = X.loc[:, column_names].apply(lambda x: (x - x.min()) / (x.max() - x.min()))\n",
        "\n",
        "# X is already defined on step 2\n",
        "y = data['Species']\n",
        "X_train, X_test, y_train, y_test = train_test_split(X, y, test_size=0.2, random_state=45)"
      ],
      "metadata": {
        "colab": {
          "base_uri": "https://localhost:8080/"
        },
        "id": "julA9jx6Gxx3",
        "outputId": "ff12fb09-cdd4-479f-8dce-48868728d272"
      },
      "execution_count": null,
      "outputs": [
        {
          "output_type": "stream",
          "name": "stderr",
          "text": [
            "<ipython-input-62-312ba90091d4>:1: SettingWithCopyWarning: \n",
            "A value is trying to be set on a copy of a slice from a DataFrame\n",
            "\n",
            "See the caveats in the documentation: https://pandas.pydata.org/pandas-docs/stable/user_guide/indexing.html#returning-a-view-versus-a-copy\n",
            "  X.loc[:, column_names] = X.loc[:, column_names].apply(lambda x: (x - x.min()) / (x.max() - x.min()))\n"
          ]
        }
      ]
    },
    {
      "cell_type": "markdown",
      "source": [
        "**Step 4** : Perform Gaussian Naive Bayes & display result.\n"
      ],
      "metadata": {
        "id": "W-Tieu6uHcjk"
      }
    },
    {
      "cell_type": "code",
      "source": [
        "gnb = GaussianNB()\n",
        "gnb.fit(X_train, y_train)\n",
        "y_pred = gnb.predict(X_test)\n",
        "\n",
        "showResults()"
      ],
      "metadata": {
        "colab": {
          "base_uri": "https://localhost:8080/",
          "height": 619
        },
        "id": "8HT7o3w5G89-",
        "outputId": "c9278125-e8a2-45c7-fd09-b7c7bdf0628b"
      },
      "execution_count": null,
      "outputs": [
        {
          "output_type": "stream",
          "name": "stdout",
          "text": [
            "Accuracy: 0.9666666666666667\n"
          ]
        },
        {
          "output_type": "display_data",
          "data": {
            "text/plain": [
              "<Figure size 400x400 with 2 Axes>"
            ],
            "image/png": "[encoded data removed]"
          },
          "metadata": {}
        },
        {
          "output_type": "stream",
          "name": "stdout",
          "text": [
            "Classification Report:\n",
            "                 precision    recall  f1-score   support\n",
            "\n",
            "    Iris-setosa       1.00      1.00      1.00        11\n",
            "Iris-versicolor       0.88      1.00      0.93         7\n",
            " Iris-virginica       1.00      0.92      0.96        12\n",
            "\n",
            "       accuracy                           0.97        30\n",
            "      macro avg       0.96      0.97      0.96        30\n",
            "   weighted avg       0.97      0.97      0.97        30\n",
            "\n"
          ]
        }
      ]
    },
    {
      "cell_type": "markdown",
      "source": [
        "**Overall Code**"
      ],
      "metadata": {
        "id": "VnLoO2PxI0LU"
      }
    },
    {
      "cell_type": "code",
      "source": [
        "import pandas as pd\n",
        "from sklearn.preprocessing import LabelEncoder\n",
        "from sklearn.model_selection import train_test_split\n",
        "from sklearn.naive_bayes import GaussianNB\n",
        "from sklearn.metrics import accuracy_score\n",
        "from sklearn.metrics import classification_report, confusion_matrix, accuracy_score\n",
        "import seaborn as sns\n",
        "import matplotlib.pyplot as plt\n",
        "\n",
        "\n",
        "def showResults(filters=None):\n",
        "    if filters is None or not filters:\n",
        "        filters = ['classification_report', 'accuracy', 'confusion_matrix']\n",
        "\n",
        "    if 'accuracy' in filters:\n",
        "        print(\"Accuracy:\", accuracy_score(y_test, y_pred))\n",
        "\n",
        "    if 'confusion_matrix' in filters:\n",
        "        plt.figure(figsize=(4, 4))\n",
        "        plt.rc('font', size=8)\n",
        "        sns.heatmap(confusion_matrix(y_test, y_pred), annot=True, fmt='d', cmap='Blues',\n",
        "                    xticklabels=gnb.classes_, yticklabels=gnb.classes_)\n",
        "        plt.xlabel('Predicted', fontweight='bold')\n",
        "        plt.ylabel('Actual', fontweight='bold')\n",
        "        plt.title('Confusion Matrix', fontweight='bold')\n",
        "        plt.show()\n",
        "\n",
        "    if 'classification_report' in filters:\n",
        "        print(\"Classification Report:\")\n",
        "        print(classification_report(y_test, y_pred))\n",
        "\n",
        "\n",
        "url = \"./Iris.csv\"\n",
        "column_names = ['SepalLengthCm', 'SepalWidthCm', 'PetalLengthCm', 'PetalWidthCm']\n",
        "data = pd.read_csv(url, header=0)\n",
        "X = data[column_names]\n",
        "\n",
        "X.loc[:, column_names] = X.loc[:, column_names].apply(lambda x: (x - x.min()) / (x.max() - x.min()))\n",
        "\n",
        "# X is already defined on step 2\n",
        "y = data['Species']\n",
        "X_train, X_test, y_train, y_test = train_test_split(X, y, test_size=0.2, random_state=45)\n",
        "\n",
        "\n",
        "gnb = GaussianNB()\n",
        "gnb.fit(X_train, y_train)\n",
        "y_pred = gnb.predict(X_test)\n",
        "\n",
        "showResults()"
      ],
      "metadata": {
        "id": "Dc5NVGwLI9jk"
      },
      "execution_count": null,
      "outputs": []
    }
  ]
}